{
 "metadata": {
  "name": "",
  "signature": "sha256:c6e86dbd66022edaf89c2aafc9b752a9c6c270fbb56427fece4e2b457d9ec9e2"
 },
 "nbformat": 3,
 "nbformat_minor": 0,
 "worksheets": [
  {
   "cells": [
    {
     "cell_type": "heading",
     "level": 1,
     "metadata": {},
     "source": [
      "Introduction"
     ]
    },
    {
     "cell_type": "markdown",
     "metadata": {},
     "source": [
      "In this segment, we will attempt to parse some of Perforce's command output. The key here is to use the global option `-G` to tell Perforce to return a marshal object which we can decode."
     ]
    },
    {
     "cell_type": "code",
     "collapsed": false,
     "input": [
      "import marshal\n",
      "import subprocess\n",
      "from pprint import pprint\n",
      "\n",
      "def p4_command(command):\n",
      "    command = ['p4', '-G'] + command.split(' ')\n",
      "    output = subprocess.check_output(command) # Run the command\n",
      "    result = marshal.loads(output) # Decode\n",
      "    return result    "
     ],
     "language": "python",
     "metadata": {},
     "outputs": [],
     "prompt_number": 5
    },
    {
     "cell_type": "code",
     "collapsed": false,
     "input": [
      "info = p4_command('info')\n",
      "pprint(info)"
     ],
     "language": "python",
     "metadata": {},
     "outputs": [
      {
       "output_type": "stream",
       "stream": "stdout",
       "text": [
        "{'caseHandling': 'insensitive',\n",
        " 'clientAddress': '10.0.0.2',\n",
        " 'clientCwd': '/Users/haiv/src/python/p4',\n",
        " 'clientHost': 'haimac.local',\n",
        " 'clientLock': 'none',\n",
        " 'clientName': 'haimac',\n",
        " 'clientRoot': '/Users/haiv/projects/p4/',\n",
        " 'code': 'stat',\n",
        " 'peerAddress': '10.0.0.2:60124',\n",
        " 'serverAddress': '10.0.0.2:1666',\n",
        " 'serverDate': '2014/11/29 07:49:55 -0800 PST',\n",
        " 'serverLicense': 'none',\n",
        " 'serverRoot': '/Volumes/haibo/Perforce',\n",
        " 'serverServices': 'standard',\n",
        " 'serverUptime': '59:02:39',\n",
        " 'serverVersion': 'P4D/DARWIN90X86_64/2014.1/933132 (2014/09/11)',\n",
        " 'userName': 'haiv'}\n"
       ]
      }
     ],
     "prompt_number": 6
    },
    {
     "cell_type": "code",
     "collapsed": false,
     "input": [
      "client_info = p4_command('client -o')\n",
      "pprint(client_info)"
     ],
     "language": "python",
     "metadata": {},
     "outputs": [
      {
       "output_type": "stream",
       "stream": "stdout",
       "text": [
        "{'Access': '2014/11/27 15:23:53',\n",
        " 'Client': 'haimac',\n",
        " 'Description': 'Created by haiv.\\n',\n",
        " 'Host': 'haimac.local',\n",
        " 'LineEnd': 'local',\n",
        " 'Options': 'noallwrite noclobber nocompress unlocked nomodtime normdir',\n",
        " 'Owner': 'haiv',\n",
        " 'Root': '/Users/haiv/projects/p4/',\n",
        " 'SubmitOptions': 'submitunchanged',\n",
        " 'Update': '2014/09/26 23:22:14',\n",
        " 'View0': '//sandbox/... //haimac/sandbox/...',\n",
        " 'View1': '//projectx/... //haimac/x/...',\n",
        " 'code': 'stat'}\n"
       ]
      }
     ],
     "prompt_number": 7
    },
    {
     "cell_type": "code",
     "collapsed": false,
     "input": [],
     "language": "python",
     "metadata": {},
     "outputs": [],
     "prompt_number": 7
    }
   ],
   "metadata": {}
  }
 ]
}