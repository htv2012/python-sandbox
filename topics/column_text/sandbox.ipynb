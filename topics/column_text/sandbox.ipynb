{
 "cells": [
  {
   "cell_type": "markdown",
   "id": "4d717e21-14d3-470f-b7ed-3e886ceace4e",
   "metadata": {},
   "source": [
    "# Display text in columns"
   ]
  },
  {
   "cell_type": "code",
   "execution_count": 17,
   "id": "43add834-d48f-467b-a40f-55ec172b4734",
   "metadata": {},
   "outputs": [],
   "source": [
    "import os\n",
    "import shutil\n",
    "import itertools"
   ]
  },
  {
   "cell_type": "code",
   "execution_count": 8,
   "id": "f2ad3bba-a31e-42b4-ba3e-b1edfc03972f",
   "metadata": {},
   "outputs": [
    {
     "data": {
      "text/plain": [
       "80"
      ]
     },
     "execution_count": 8,
     "metadata": {},
     "output_type": "execute_result"
    }
   ],
   "source": [
    "term_width = shutil.get_terminal_size().columns\n",
    "term_width"
   ]
  },
  {
   "cell_type": "code",
   "execution_count": 19,
   "id": "9c416a55-1a49-455c-ae7a-01e05123051a",
   "metadata": {},
   "outputs": [],
   "source": [
    "li = [f\"item {i}\" for i in range(37)]"
   ]
  },
  {
   "cell_type": "code",
   "execution_count": 20,
   "id": "84e65846-1ce3-4455-a124-a7746cbfab92",
   "metadata": {},
   "outputs": [
    {
     "data": {
      "text/plain": [
       "9"
      ]
     },
     "execution_count": 20,
     "metadata": {},
     "output_type": "execute_result"
    }
   ],
   "source": [
    "max_width = max(len(e) for e in li) + 2\n",
    "max_width"
   ]
  },
  {
   "cell_type": "code",
   "execution_count": 21,
   "id": "1ce33ab3-b046-4f6f-b84f-8dc5557df0c6",
   "metadata": {},
   "outputs": [
    {
     "data": {
      "text/plain": [
       "8"
      ]
     },
     "execution_count": 21,
     "metadata": {},
     "output_type": "execute_result"
    }
   ],
   "source": [
    "col_count = term_width // max_width \n",
    "col_count"
   ]
  },
  {
   "cell_type": "code",
   "execution_count": 22,
   "id": "66d2bb8f-97f2-4374-9d32-00667728f4ed",
   "metadata": {},
   "outputs": [
    {
     "data": {
      "text/plain": [
       "5"
      ]
     },
     "execution_count": 22,
     "metadata": {},
     "output_type": "execute_result"
    }
   ],
   "source": [
    "row_count = len(li) // col_count\n",
    "if col_count * row_count < len(li):\n",
    "    row_count += 1\n",
    "row_count"
   ]
  },
  {
   "cell_type": "code",
   "execution_count": 23,
   "id": "843837d0-a9d3-4427-8b06-1308a1552fa5",
   "metadata": {},
   "outputs": [
    {
     "data": {
      "text/plain": [
       "[[], [], [], [], []]"
      ]
     },
     "execution_count": 23,
     "metadata": {},
     "output_type": "execute_result"
    }
   ],
   "source": [
    "grid = [\n",
    "    []\n",
    "    for _ in range(row_count)\n",
    "]\n",
    "grid"
   ]
  },
  {
   "cell_type": "code",
   "execution_count": 24,
   "id": "f8ced4ae-1e87-4ba2-8a06-cc7169a28084",
   "metadata": {},
   "outputs": [
    {
     "data": {
      "text/plain": [
       "[['item 0',\n",
       "  'item 5',\n",
       "  'item 10',\n",
       "  'item 15',\n",
       "  'item 20',\n",
       "  'item 25',\n",
       "  'item 30',\n",
       "  'item 35'],\n",
       " ['item 1',\n",
       "  'item 6',\n",
       "  'item 11',\n",
       "  'item 16',\n",
       "  'item 21',\n",
       "  'item 26',\n",
       "  'item 31',\n",
       "  'item 36'],\n",
       " ['item 2', 'item 7', 'item 12', 'item 17', 'item 22', 'item 27', 'item 32'],\n",
       " ['item 3', 'item 8', 'item 13', 'item 18', 'item 23', 'item 28', 'item 33'],\n",
       " ['item 4', 'item 9', 'item 14', 'item 19', 'item 24', 'item 29', 'item 34']]"
      ]
     },
     "execution_count": 24,
     "metadata": {},
     "output_type": "execute_result"
    }
   ],
   "source": [
    "for e, x in zip(li, itertools.cycle(range(row_count))):\n",
    "    grid[x].append(e)\n",
    "grid"
   ]
  },
  {
   "cell_type": "code",
   "execution_count": 25,
   "id": "bb608e55-543b-4052-999e-c7d3ca2c6341",
   "metadata": {},
   "outputs": [
    {
     "data": {
      "text/plain": [
       "[('item 0', 'item 1', 'item 2', 'item 3', 'item 4'),\n",
       " ('item 5', 'item 6', 'item 7', 'item 8', 'item 9'),\n",
       " ('item 10', 'item 11', 'item 12', 'item 13', 'item 14'),\n",
       " ('item 15', 'item 16', 'item 17', 'item 18', 'item 19'),\n",
       " ('item 20', 'item 21', 'item 22', 'item 23', 'item 24'),\n",
       " ('item 25', 'item 26', 'item 27', 'item 28', 'item 29'),\n",
       " ('item 30', 'item 31', 'item 32', 'item 33', 'item 34')]"
      ]
     },
     "execution_count": 25,
     "metadata": {},
     "output_type": "execute_result"
    }
   ],
   "source": [
    "g2 = list(zip(*grid))\n",
    "g2"
   ]
  },
  {
   "cell_type": "code",
   "execution_count": 26,
   "id": "a1f8d0f4-0eac-4150-bdb9-6e32372442c0",
   "metadata": {},
   "outputs": [
    {
     "name": "stdout",
     "output_type": "stream",
     "text": [
      "item 0   item 5   item 10  item 15  item 20  item 25  item 30  item 35  \n",
      "item 1   item 6   item 11  item 16  item 21  item 26  item 31  item 36  \n",
      "item 2   item 7   item 12  item 17  item 22  item 27  item 32  \n",
      "item 3   item 8   item 13  item 18  item 23  item 28  item 33  \n",
      "item 4   item 9   item 14  item 19  item 24  item 29  item 34  \n"
     ]
    }
   ],
   "source": [
    "for row in grid:\n",
    "    for cell in row:\n",
    "        print(cell.ljust(max_width), end=\"\")\n",
    "    print()"
   ]
  },
  {
   "cell_type": "code",
   "execution_count": 27,
   "id": "4dcecb80-a837-4979-aeac-45a6b590060b",
   "metadata": {},
   "outputs": [],
   "source": [
    "def columnize(elements: list[str]):\n",
    "    term_width = shutil.get_terminal_size().columns\n",
    "    max_wdith = max(len(e) for e in elements) + 2\n",
    "    columns_count = term_width // max_width\n",
    "    rows_count = len(elements) // columns_count\n",
    "    if columns_count * rows_count < len(elements):\n",
    "        rows_count += 1\n",
    "\n",
    "    grid = [[] for _ in range(rows_count)]\n",
    "    for element, row_index in zip(elements, itertools.cycle(range(rows_count))):\n",
    "        grid[row_index].append(element)\n",
    "\n",
    "    for row in grid:\n",
    "        for cell in row:\n",
    "            print(cell.ljust(max_width), end=\"\")\n",
    "        print()\n",
    "    "
   ]
  },
  {
   "cell_type": "code",
   "execution_count": 29,
   "id": "3056c80d-0805-4ff3-be3f-af9eb67b3c12",
   "metadata": {},
   "outputs": [
    {
     "name": "stdout",
     "output_type": "stream",
     "text": [
      "item 0   item 5   item 10  item 15  item 20  item 25  item 30  item 35  \n",
      "item 1   item 6   item 11  item 16  item 21  item 26  item 31  item 36  \n",
      "item 2   item 7   item 12  item 17  item 22  item 27  item 32  \n",
      "item 3   item 8   item 13  item 18  item 23  item 28  item 33  \n",
      "item 4   item 9   item 14  item 19  item 24  item 29  item 34  \n"
     ]
    }
   ],
   "source": [
    "columnize(li)"
   ]
  },
  {
   "cell_type": "code",
   "execution_count": null,
   "id": "38b13f15-0c26-46b4-91a4-48fcc301a49f",
   "metadata": {},
   "outputs": [],
   "source": []
  }
 ],
 "metadata": {
  "kernelspec": {
   "display_name": "Python 3 (ipykernel)",
   "language": "python",
   "name": "python3"
  },
  "language_info": {
   "codemirror_mode": {
    "name": "ipython",
    "version": 3
   },
   "file_extension": ".py",
   "mimetype": "text/x-python",
   "name": "python",
   "nbconvert_exporter": "python",
   "pygments_lexer": "ipython3",
   "version": "3.12.5"
  }
 },
 "nbformat": 4,
 "nbformat_minor": 5
}
