{
 "cells": [
  {
   "cell_type": "markdown",
   "id": "4d717e21-14d3-470f-b7ed-3e886ceace4e",
   "metadata": {},
   "source": [
    "# Display text in columns"
   ]
  },
  {
   "cell_type": "code",
   "execution_count": 17,
   "id": "43add834-d48f-467b-a40f-55ec172b4734",
   "metadata": {},
   "outputs": [],
   "source": [
    "import itertools\n",
    "import shutil"
   ]
  },
  {
   "cell_type": "code",
   "execution_count": 8,
   "id": "f2ad3bba-a31e-42b4-ba3e-b1edfc03972f",
   "metadata": {},
   "outputs": [
    {
     "data": {
      "text/plain": [
       "80"
      ]
     },
     "execution_count": 8,
     "metadata": {},
     "output_type": "execute_result"
    }
   ],
   "source": [
    "term_width = shutil.get_terminal_size().columns\n",
    "term_width"
   ]
  },
  {
   "cell_type": "code",
   "execution_count": 19,
   "id": "9c416a55-1a49-455c-ae7a-01e05123051a",
   "metadata": {},
   "outputs": [],
   "source": [
    "li = [f\"item {i}\" for i in range(37)]"
   ]
  },
  {
   "cell_type": "code",
   "execution_count": 20,
   "id": "84e65846-1ce3-4455-a124-a7746cbfab92",
   "metadata": {},
   "outputs": [
    {
     "data": {
      "text/plain": [
       "9"
      ]
     },
     "execution_count": 20,
     "metadata": {},
     "output_type": "execute_result"
    }
   ],
   "source": [
    "max_width = max(len(e) for e in li) + 2\n",
    "max_width"
   ]
  },
  {
   "cell_type": "code",
   "execution_count": 21,
   "id": "1ce33ab3-b046-4f6f-b84f-8dc5557df0c6",
   "metadata": {},
   "outputs": [
    {
     "data": {
      "text/plain": [
       "8"
      ]
     },
     "execution_count": 21,
     "metadata": {},
     "output_type": "execute_result"
    }
   ],
   "source": [
    "col_count = term_width // max_width\n",
    "col_count"
   ]
  },
  {
   "cell_type": "code",
   "execution_count": 22,
   "id": "66d2bb8f-97f2-4374-9d32-00667728f4ed",
   "metadata": {},
   "outputs": [
    {
     "data": {
      "text/plain": [
       "5"
      ]
     },
     "execution_count": 22,
     "metadata": {},
     "output_type": "execute_result"
    }
   ],
   "source": [
    "row_count = len(li) // col_count\n",
    "if col_count * row_count < len(li):\n",
    "    row_count += 1\n",
    "row_count"
   ]
  },
  {
   "cell_type": "code",
   "execution_count": 23,
   "id": "843837d0-a9d3-4427-8b06-1308a1552fa5",
   "metadata": {},
   "outputs": [
    {
     "data": {
      "text/plain": [
       "[[], [], [], [], []]"
      ]
     },
     "execution_count": 23,
     "metadata": {},
     "output_type": "execute_result"
    }
   ],
   "source": [
    "grid = [[] for _ in range(row_count)]\n",
    "grid"
   ]
  },
  {
   "cell_type": "code",
   "execution_count": 24,
   "id": "f8ced4ae-1e87-4ba2-8a06-cc7169a28084",
   "metadata": {},
   "outputs": [
    {
     "data": {
      "text/plain": [
       "[['item 0',\n",
       "  'item 5',\n",
       "  'item 10',\n",
       "  'item 15',\n",
       "  'item 20',\n",
       "  'item 25',\n",
       "  'item 30',\n",
       "  'item 35'],\n",
       " ['item 1',\n",
       "  'item 6',\n",
       "  'item 11',\n",
       "  'item 16',\n",
       "  'item 21',\n",
       "  'item 26',\n",
       "  'item 31',\n",
       "  'item 36'],\n",
       " ['item 2', 'item 7', 'item 12', 'item 17', 'item 22', 'item 27', 'item 32'],\n",
       " ['item 3', 'item 8', 'item 13', 'item 18', 'item 23', 'item 28', 'item 33'],\n",
       " ['item 4', 'item 9', 'item 14', 'item 19', 'item 24', 'item 29', 'item 34']]"
      ]
     },
     "execution_count": 24,
     "metadata": {},
     "output_type": "execute_result"
    }
   ],
   "source": [
    "for e, x in zip(li, itertools.cycle(range(row_count))):\n",
    "    grid[x].append(e)\n",
    "grid"
   ]
  },
  {
   "cell_type": "code",
   "execution_count": 25,
   "id": "bb608e55-543b-4052-999e-c7d3ca2c6341",
   "metadata": {},
   "outputs": [
    {
     "data": {
      "text/plain": [
       "[('item 0', 'item 1', 'item 2', 'item 3', 'item 4'),\n",
       " ('item 5', 'item 6', 'item 7', 'item 8', 'item 9'),\n",
       " ('item 10', 'item 11', 'item 12', 'item 13', 'item 14'),\n",
       " ('item 15', 'item 16', 'item 17', 'item 18', 'item 19'),\n",
       " ('item 20', 'item 21', 'item 22', 'item 23', 'item 24'),\n",
       " ('item 25', 'item 26', 'item 27', 'item 28', 'item 29'),\n",
       " ('item 30', 'item 31', 'item 32', 'item 33', 'item 34')]"
      ]
     },
     "execution_count": 25,
     "metadata": {},
     "output_type": "execute_result"
    }
   ],
   "source": [
    "g2 = list(zip(*grid))\n",
    "g2"
   ]
  },
  {
   "cell_type": "code",
   "execution_count": 26,
   "id": "a1f8d0f4-0eac-4150-bdb9-6e32372442c0",
   "metadata": {},
   "outputs": [
    {
     "name": "stdout",
     "output_type": "stream",
     "text": [
      "item 0   item 5   item 10  item 15  item 20  item 25  item 30  item 35  \n",
      "item 1   item 6   item 11  item 16  item 21  item 26  item 31  item 36  \n",
      "item 2   item 7   item 12  item 17  item 22  item 27  item 32  \n",
      "item 3   item 8   item 13  item 18  item 23  item 28  item 33  \n",
      "item 4   item 9   item 14  item 19  item 24  item 29  item 34  \n"
     ]
    }
   ],
   "source": [
    "for row in grid:\n",
    "    for cell in row:\n",
    "        print(cell.ljust(max_width), end=\"\")\n",
    "    print()"
   ]
  },
  {
   "cell_type": "code",
   "execution_count": 27,
   "id": "4dcecb80-a837-4979-aeac-45a6b590060b",
   "metadata": {},
   "outputs": [],
   "source": [
    "def columnize(elements: list[str]):\n",
    "    term_width = shutil.get_terminal_size().columns\n",
    "    max_wdith = max(len(e) for e in elements) + 2\n",
    "    columns_count = term_width // max_width\n",
    "    rows_count = len(elements) // columns_count\n",
    "    if columns_count * rows_count < len(elements):\n",
    "        rows_count += 1\n",
    "\n",
    "    grid = [[] for _ in range(rows_count)]\n",
    "    for element, row_index in zip(elements, itertools.cycle(range(rows_count))):\n",
    "        grid[row_index].append(element)\n",
    "\n",
    "    for row in grid:\n",
    "        for cell in row:\n",
    "            print(cell.ljust(max_width), end=\"\")\n",
    "        print()"
   ]
  },
  {
   "cell_type": "code",
   "execution_count": 29,
   "id": "3056c80d-0805-4ff3-be3f-af9eb67b3c12",
   "metadata": {},
   "outputs": [
    {
     "name": "stdout",
     "output_type": "stream",
     "text": [
      "item 0   item 5   item 10  item 15  item 20  item 25  item 30  item 35  \n",
      "item 1   item 6   item 11  item 16  item 21  item 26  item 31  item 36  \n",
      "item 2   item 7   item 12  item 17  item 22  item 27  item 32  \n",
      "item 3   item 8   item 13  item 18  item 23  item 28  item 33  \n",
      "item 4   item 9   item 14  item 19  item 24  item 29  item 34  \n"
     ]
    }
   ],
   "source": [
    "columnize(li)"
   ]
  },
  {
   "cell_type": "markdown",
   "id": "e70e9a0f-c5b2-4081-865b-a11be9fc90a0",
   "metadata": {},
   "source": [
    "# Break into rows, columns\n",
    "\n",
    "Given a list, break them into N rows, or N columns"
   ]
  },
  {
   "cell_type": "code",
   "execution_count": 19,
   "id": "4bdca256-23b3-4f87-9e84-7bc7498d3b69",
   "metadata": {},
   "outputs": [],
   "source": [
    "li = [f\"item {i}\" for i in range(47)]"
   ]
  },
  {
   "cell_type": "code",
   "execution_count": 22,
   "id": "bed1deb9-9d04-4936-8ba3-9e8764faeb48",
   "metadata": {},
   "outputs": [],
   "source": [
    "def rows_split(li: list[str], rows_count: int) -> list[list[str]]:\n",
    "    rows = [[] for _ in range(rows_count)]\n",
    "    for element, row_index in zip(li, itertools.cycle(range(rows_count))):\n",
    "        rows[row_index].append(element)\n",
    "    return rows\n",
    "\n",
    "\n",
    "def columns_split(li: list, columns_count: int) -> list[list]:\n",
    "    it = iter(li)\n",
    "    columns = []\n",
    "    rows_count = len(li) // columns_count\n",
    "    if rows_count * columns_count < len(li):\n",
    "        rows_count += 1\n",
    "\n",
    "    while True:\n",
    "        column = list(itertools.islice(it, rows_count))\n",
    "        if not column:\n",
    "            break\n",
    "        columns.append(column)\n",
    "\n",
    "    return columns"
   ]
  },
  {
   "cell_type": "code",
   "execution_count": 25,
   "id": "d4d1055f-74a9-4737-aa70-82d52f58fc28",
   "metadata": {},
   "outputs": [
    {
     "data": {
      "text/plain": [
       "[['item 0', 'item 1', 'item 2', 'item 3', 'item 4', 'item 5', 'item 6'],\n",
       " ['item 7', 'item 8', 'item 9', 'item 10', 'item 11', 'item 12', 'item 13'],\n",
       " ['item 14', 'item 15', 'item 16', 'item 17', 'item 18', 'item 19', 'item 20'],\n",
       " ['item 21', 'item 22', 'item 23', 'item 24', 'item 25', 'item 26', 'item 27'],\n",
       " ['item 28', 'item 29', 'item 30', 'item 31', 'item 32', 'item 33', 'item 34'],\n",
       " ['item 35', 'item 36', 'item 37', 'item 38', 'item 39', 'item 40', 'item 41'],\n",
       " ['item 42', 'item 43', 'item 44', 'item 45', 'item 46']]"
      ]
     },
     "execution_count": 25,
     "metadata": {},
     "output_type": "execute_result"
    }
   ],
   "source": [
    "columns_split(li, 7)"
   ]
  },
  {
   "cell_type": "code",
   "execution_count": 26,
   "id": "5e42d37d-a6a5-4cf2-bfa5-1345385c7daa",
   "metadata": {},
   "outputs": [
    {
     "data": {
      "text/plain": [
       "[['item 0', 'item 7', 'item 14', 'item 21', 'item 28', 'item 35', 'item 42'],\n",
       " ['item 1', 'item 8', 'item 15', 'item 22', 'item 29', 'item 36', 'item 43'],\n",
       " ['item 2', 'item 9', 'item 16', 'item 23', 'item 30', 'item 37', 'item 44'],\n",
       " ['item 3', 'item 10', 'item 17', 'item 24', 'item 31', 'item 38', 'item 45'],\n",
       " ['item 4', 'item 11', 'item 18', 'item 25', 'item 32', 'item 39', 'item 46'],\n",
       " ['item 5', 'item 12', 'item 19', 'item 26', 'item 33', 'item 40'],\n",
       " ['item 6', 'item 13', 'item 20', 'item 27', 'item 34', 'item 41']]"
      ]
     },
     "execution_count": 26,
     "metadata": {},
     "output_type": "execute_result"
    }
   ],
   "source": [
    "rows_split(li, 7)"
   ]
  },
  {
   "cell_type": "markdown",
   "id": "d723e2aa-d614-428a-a391-30aeb497edb1",
   "metadata": {},
   "source": [
    "# Using columns split, turns into rows"
   ]
  },
  {
   "cell_type": "code",
   "execution_count": 28,
   "id": "e4d22769-a28e-4019-ad24-f981359a0ba4",
   "metadata": {},
   "outputs": [],
   "source": [
    "import itertools\n",
    "\n",
    "\n",
    "def columns_split(li: list, columns_count: int) -> list[list]:\n",
    "    it = iter(li)\n",
    "    columns = []\n",
    "    rows_count = len(li) // columns_count\n",
    "    if rows_count * columns_count < len(li):\n",
    "        rows_count += 1\n",
    "\n",
    "    while True:\n",
    "        column = list(itertools.islice(it, rows_count))\n",
    "        if not column:\n",
    "            break\n",
    "        columns.append(column)\n",
    "\n",
    "    return columns"
   ]
  },
  {
   "cell_type": "code",
   "execution_count": 54,
   "id": "bfe4931b-743b-44f7-ac34-08a288606e20",
   "metadata": {},
   "outputs": [],
   "source": [
    "total = 53\n",
    "count = 7\n",
    "width = 5\n",
    "fill_value = \"\"\n",
    "li = [f\"i{i}\" for i in range(total)]"
   ]
  },
  {
   "cell_type": "code",
   "execution_count": 55,
   "id": "cd818627-91d6-461f-ae65-c1ecbbf08cd0",
   "metadata": {},
   "outputs": [],
   "source": [
    "cols = list(columns_split(li, count))"
   ]
  },
  {
   "cell_type": "code",
   "execution_count": 56,
   "id": "d9a2eefd-7508-4738-93d3-c44c6719030a",
   "metadata": {},
   "outputs": [
    {
     "data": {
      "text/plain": [
       "[['i0', 'i1', 'i2', 'i3', 'i4', 'i5', 'i6', 'i7'],\n",
       " ['i8', 'i9', 'i10', 'i11', 'i12', 'i13', 'i14', 'i15'],\n",
       " ['i16', 'i17', 'i18', 'i19', 'i20', 'i21', 'i22', 'i23'],\n",
       " ['i24', 'i25', 'i26', 'i27', 'i28', 'i29', 'i30', 'i31'],\n",
       " ['i32', 'i33', 'i34', 'i35', 'i36', 'i37', 'i38', 'i39'],\n",
       " ['i40', 'i41', 'i42', 'i43', 'i44', 'i45', 'i46', 'i47'],\n",
       " ['i48', 'i49', 'i50', 'i51', 'i52']]"
      ]
     },
     "execution_count": 56,
     "metadata": {},
     "output_type": "execute_result"
    }
   ],
   "source": [
    "cols"
   ]
  },
  {
   "cell_type": "code",
   "execution_count": 57,
   "id": "0849dc7c-af77-446a-8672-e3a7e7b62821",
   "metadata": {},
   "outputs": [
    {
     "data": {
      "text/plain": [
       "[('i0', 'i8', 'i16', 'i24', 'i32', 'i40', 'i48'),\n",
       " ('i1', 'i9', 'i17', 'i25', 'i33', 'i41', 'i49'),\n",
       " ('i2', 'i10', 'i18', 'i26', 'i34', 'i42', 'i50'),\n",
       " ('i3', 'i11', 'i19', 'i27', 'i35', 'i43', 'i51'),\n",
       " ('i4', 'i12', 'i20', 'i28', 'i36', 'i44', 'i52'),\n",
       " ('i5', 'i13', 'i21', 'i29', 'i37', 'i45', ''),\n",
       " ('i6', 'i14', 'i22', 'i30', 'i38', 'i46', ''),\n",
       " ('i7', 'i15', 'i23', 'i31', 'i39', 'i47', '')]"
      ]
     },
     "execution_count": 57,
     "metadata": {},
     "output_type": "execute_result"
    }
   ],
   "source": [
    "# Convert to rows\n",
    "rows = list(itertools.zip_longest(*cols, fillvalue=fill_value))\n",
    "rows"
   ]
  },
  {
   "cell_type": "code",
   "execution_count": 58,
   "id": "adb75eba-0e58-42da-b291-b523d849970f",
   "metadata": {},
   "outputs": [
    {
     "name": "stdout",
     "output_type": "stream",
     "text": [
      "i0   i8   i16  i24  i32  i40  i48  \n",
      "i1   i9   i17  i25  i33  i41  i49  \n",
      "i2   i10  i18  i26  i34  i42  i50  \n",
      "i3   i11  i19  i27  i35  i43  i51  \n",
      "i4   i12  i20  i28  i36  i44  i52  \n",
      "i5   i13  i21  i29  i37  i45       \n",
      "i6   i14  i22  i30  i38  i46       \n",
      "i7   i15  i23  i31  i39  i47       \n"
     ]
    }
   ],
   "source": [
    "for row in rows:\n",
    "    for cell in row:\n",
    "        print(cell.ljust(width), end=\"\")\n",
    "    print()"
   ]
  },
  {
   "cell_type": "code",
   "execution_count": null,
   "id": "b9568d75-6d6a-4d06-8cfd-dbb54c37e31b",
   "metadata": {},
   "outputs": [],
   "source": []
  }
 ],
 "metadata": {
  "kernelspec": {
   "display_name": "Python 3 (ipykernel)",
   "language": "python",
   "name": "python3"
  },
  "language_info": {
   "codemirror_mode": {
    "name": "ipython",
    "version": 3
   },
   "file_extension": ".py",
   "mimetype": "text/x-python",
   "name": "python",
   "nbconvert_exporter": "python",
   "pygments_lexer": "ipython3",
   "version": "3.12.5"
  }
 },
 "nbformat": 4,
 "nbformat_minor": 5
}
