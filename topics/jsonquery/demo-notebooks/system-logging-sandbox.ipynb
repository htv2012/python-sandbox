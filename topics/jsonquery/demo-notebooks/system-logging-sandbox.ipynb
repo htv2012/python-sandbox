{
 "cells": [
  {
   "cell_type": "code",
   "execution_count": 2,
   "metadata": {},
   "outputs": [
    {
     "name": "stdout",
     "output_type": "stream",
     "text": [
      "{\n",
      "    \"f5-openconfig-system-logging:sw-components\": {\n",
      "        \"sw-component\": [\n",
      "            {\n",
      "                \"config\": {\n",
      "                    \"levels\": [\n",
      "                        \"EMERGENCY\",\n",
      "                        \"ALERT\",\n",
      "                        \"CRITICAL\",\n",
      "                        \"ERROR\"\n",
      "                    ],\n",
      "                    \"name\": \"f5-logging-component-velocity_rsyslogd:velocity_rsyslogd\"\n",
      "                },\n",
      "                \"name\": \"f5-logging-component-velocity_rsyslogd:velocity_rsyslogd\"\n",
      "            },\n",
      "            {\n",
      "                \"config\": {\n",
      "                    \"levels\": [\n",
      "                        \"EMERGENCY\",\n",
      "                        \"ALERT\",\n",
      "                        \"CRITICAL\",\n",
      "                        \"ERROR\"\n",
      "                    ],\n",
      "                    \"name\": \"f5-logging-component-authd:authd\"\n",
      "                },\n",
      "                \"name\": \"f5-logging-component-authd:authd\"\n",
      "            }\n",
      "        ]\n",
      "    }\n",
      "}\n"
     ]
    }
   ],
   "source": [
    "import json\n",
    "import jsonquery\n",
    "\n",
    "json_object = json.loads(\"\"\"{\n",
    "  \"f5-openconfig-system-logging:sw-components\": {\n",
    "    \"sw-component\": [\n",
    "      {\n",
    "        \"name\": \"f5-logging-component-velocity_rsyslogd:velocity_rsyslogd\",\n",
    "        \"config\": {\n",
    "          \"name\": \"f5-logging-component-velocity_rsyslogd:velocity_rsyslogd\",\n",
    "          \"levels\": [\n",
    "            \"EMERGENCY\",\n",
    "            \"ALERT\",\n",
    "            \"CRITICAL\",\n",
    "            \"ERROR\"\n",
    "          ]\n",
    "        }\n",
    "      },\n",
    "      {\n",
    "        \"name\": \"f5-logging-component-authd:authd\",\n",
    "        \"config\": {\n",
    "          \"name\": \"f5-logging-component-authd:authd\",\n",
    "          \"levels\": [\n",
    "            \"EMERGENCY\",\n",
    "            \"ALERT\",\n",
    "            \"CRITICAL\",\n",
    "            \"ERROR\"\n",
    "          ]\n",
    "        }\n",
    "      }\n",
    "    ]\n",
    "  }\n",
    "}\n",
    "\"\"\")\n",
    "print(json.dumps(json_object, sort_keys=True, indent=4))"
   ]
  },
  {
   "cell_type": "code",
   "execution_count": 10,
   "metadata": {},
   "outputs": [
    {
     "name": "stdout",
     "output_type": "stream",
     "text": [
      "{\n",
      "    \"levels\": [\n",
      "        \"EMERGENCY\",\n",
      "        \"ALERT\",\n",
      "        \"CRITICAL\",\n",
      "        \"ERROR\"\n",
      "    ],\n",
      "    \"name\": \"f5-logging-component-velocity_rsyslogd:velocity_rsyslogd\"\n",
      "}\n",
      "----------------------------------------\n"
     ]
    }
   ],
   "source": [
    "# jsonquery.query(json_object, key_path, predicate=None, selector=None)\n",
    "\n",
    "items = jsonquery.query(\n",
    "    json_object,\n",
    "    (\"*\", \"sw-component\", \"*\", \"config\"),\n",
    "    lambda item: \"syslog\" in item[\"name\"]\n",
    ")\n",
    "\n",
    "for item in items:\n",
    "    print(json.dumps(item, sort_keys=True, indent=4))\n",
    "    print(\"-\" * 40)"
   ]
  },
  {
   "cell_type": "code",
   "execution_count": null,
   "metadata": {},
   "outputs": [],
   "source": [
    "\n"
   ]
  }
 ],
 "metadata": {
  "kernelspec": {
   "display_name": "Python 3",
   "language": "python",
   "name": "python3"
  },
  "language_info": {
   "codemirror_mode": {
    "name": "ipython",
    "version": 3
   },
   "file_extension": ".py",
   "mimetype": "text/x-python",
   "name": "python",
   "nbconvert_exporter": "python",
   "pygments_lexer": "ipython3",
   "version": "3.6.2"
  }
 },
 "nbformat": 4,
 "nbformat_minor": 2
}
