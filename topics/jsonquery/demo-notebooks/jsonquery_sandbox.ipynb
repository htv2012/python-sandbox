{
 "cells": [
  {
   "cell_type": "markdown",
   "metadata": {},
   "source": [
    "# jsonquery sandbox"
   ]
  },
  {
   "cell_type": "code",
   "execution_count": 1,
   "metadata": {},
   "outputs": [
    {
     "name": "stdout",
     "output_type": "stream",
     "text": [
      "{\n",
      "    \"controllers\": [\n",
      "        {\n",
      "            \"controller\": 1,\n",
      "            \"partition\": [\n",
      "                {\n",
      "                    \"name\": \"default\",\n",
      "                    \"partition_id\": 1,\n",
      "                    \"partition_info\": \"First partition\",\n",
      "                    \"partition_status\": \"running\"\n",
      "                }\n",
      "            ]\n",
      "        },\n",
      "        {\n",
      "            \"controller\": 2,\n",
      "            \"partition\": [\n",
      "                {\n",
      "                    \"name\": \"foo\",\n",
      "                    \"partition_id\": 2,\n",
      "                    \"partition_info\": \"Backup partition\",\n",
      "                    \"partition_status\": \"disabled\"\n",
      "                }\n",
      "            ]\n",
      "        }\n",
      "    ]\n",
      "}\n"
     ]
    }
   ],
   "source": [
    "import json\n",
    "\n",
    "import jsonquery\n",
    "\n",
    "with open(\"controllers.json\") as stream:\n",
    "    json_object = json.load(stream)\n",
    "\n",
    "print(json.dumps(json_object, sort_keys=True, indent=4))"
   ]
  },
  {
   "cell_type": "code",
   "execution_count": 11,
   "metadata": {},
   "outputs": [
    {
     "name": "stdout",
     "output_type": "stream",
     "text": [
      "\"default\"\n",
      "----------------------------------------\n"
     ]
    }
   ],
   "source": [
    "# jsonquery.query(json_object, key_path, predicate=None, selector=None)\n",
    "\n",
    "items = jsonquery.query(\n",
    "    json_object,\n",
    "    (\"controllers\", \"*\", \"partition\", \"*\"),\n",
    "    predicate=lambda item: item[\"partition_status\"] == \"running\",\n",
    "    selector=lambda item: item[\"name\"],\n",
    ")\n",
    "\n",
    "for item in items:\n",
    "    print(json.dumps(item, sort_keys=True, indent=4))\n",
    "    print(\"-\" * 40)"
   ]
  }
 ],
 "metadata": {
  "kernelspec": {
   "display_name": "Python 3",
   "language": "python",
   "name": "python3"
  },
  "language_info": {
   "codemirror_mode": {
    "name": "ipython",
    "version": 3
   },
   "file_extension": ".py",
   "mimetype": "text/x-python",
   "name": "python",
   "nbconvert_exporter": "python",
   "pygments_lexer": "ipython3",
   "version": "3.6.2"
  }
 },
 "nbformat": 4,
 "nbformat_minor": 2
}
