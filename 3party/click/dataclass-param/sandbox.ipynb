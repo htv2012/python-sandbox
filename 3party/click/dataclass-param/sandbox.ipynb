{
 "cells": [
  {
   "cell_type": "code",
   "execution_count": 1,
   "id": "e2695720-6d06-4084-9406-1b09152d45b1",
   "metadata": {},
   "outputs": [],
   "source": [
    "import dataclasses\n",
    "\n",
    "from dataclass_param import User"
   ]
  },
  {
   "cell_type": "code",
   "execution_count": 2,
   "id": "36f086ff-6082-4366-acf4-68b25264864d",
   "metadata": {},
   "outputs": [],
   "source": [
    "f = dataclasses.fields(User)[-1]"
   ]
  },
  {
   "cell_type": "code",
   "execution_count": 3,
   "id": "7610db56-15ff-49e3-ba16-f078e477390d",
   "metadata": {},
   "outputs": [
    {
     "data": {
      "text/plain": [
       "Field(name='shell',type=typing.Optional[str],default='zsh',default_factory=<dataclasses._MISSING_TYPE object at 0x716a2ae856a0>,init=True,repr=True,hash=None,compare=True,metadata=mappingproxy({}),kw_only=False,_field_type=_FIELD)"
      ]
     },
     "execution_count": 3,
     "metadata": {},
     "output_type": "execute_result"
    }
   ],
   "source": [
    "f"
   ]
  },
  {
   "cell_type": "code",
   "execution_count": 4,
   "id": "cb1e91db-eab8-4aaf-b786-f6f8d9a08809",
   "metadata": {},
   "outputs": [],
   "source": [
    "t = f.type"
   ]
  },
  {
   "cell_type": "code",
   "execution_count": 5,
   "id": "7b5df3df-88e0-4949-86ad-cb6f4ba0c97c",
   "metadata": {},
   "outputs": [
    {
     "data": {
      "text/plain": [
       "typing.Optional[str]"
      ]
     },
     "execution_count": 5,
     "metadata": {},
     "output_type": "execute_result"
    }
   ],
   "source": [
    "t"
   ]
  },
  {
   "cell_type": "code",
   "execution_count": 6,
   "id": "8d390e41-8f8b-4fa6-a700-4ebb6156fabf",
   "metadata": {},
   "outputs": [
    {
     "data": {
      "text/plain": [
       "{'_inst': True,\n",
       " '_name': 'Optional',\n",
       " '__origin__': typing.Union,\n",
       " '__slots__': None,\n",
       " '__args__': (str, NoneType),\n",
       " '__parameters__': ()}"
      ]
     },
     "execution_count": 6,
     "metadata": {},
     "output_type": "execute_result"
    }
   ],
   "source": [
    "vars(t)"
   ]
  },
  {
   "cell_type": "code",
   "execution_count": 9,
   "id": "6b0f88a9-fee0-41f5-9f50-e52bbf13d76f",
   "metadata": {},
   "outputs": [
    {
     "data": {
      "text/plain": [
       "'zsh'"
      ]
     },
     "execution_count": 9,
     "metadata": {},
     "output_type": "execute_result"
    }
   ],
   "source": [
    "f.default"
   ]
  },
  {
   "cell_type": "code",
   "execution_count": 10,
   "id": "cec749ed-ae60-4cb7-929e-de5bf9057958",
   "metadata": {},
   "outputs": [
    {
     "data": {
      "text/plain": [
       "True"
      ]
     },
     "execution_count": 10,
     "metadata": {},
     "output_type": "execute_result"
    }
   ],
   "source": [
    "f.default_factory is dataclasses.MISSING"
   ]
  },
  {
   "cell_type": "code",
   "execution_count": 12,
   "id": "25535a46-c4bc-4dc8-8721-58f162009265",
   "metadata": {},
   "outputs": [
    {
     "data": {
      "text/plain": [
       "'Optional'"
      ]
     },
     "execution_count": 12,
     "metadata": {},
     "output_type": "execute_result"
    }
   ],
   "source": [
    "f.type._name"
   ]
  },
  {
   "cell_type": "code",
   "execution_count": null,
   "id": "63e0ef0d-2fbc-4301-ac5a-26bd8f025b70",
   "metadata": {},
   "outputs": [],
   "source": []
  }
 ],
 "metadata": {
  "kernelspec": {
   "display_name": "Python 3 (ipykernel)",
   "language": "python",
   "name": "python3"
  },
  "language_info": {
   "codemirror_mode": {
    "name": "ipython",
    "version": 3
   },
   "file_extension": ".py",
   "mimetype": "text/x-python",
   "name": "python",
   "nbconvert_exporter": "python",
   "pygments_lexer": "ipython3",
   "version": "3.13.2"
  }
 },
 "nbformat": 4,
 "nbformat_minor": 5
}
