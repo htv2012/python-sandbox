{
 "cells": [
  {
   "cell_type": "code",
   "execution_count": 1,
   "id": "376c867e-5e0e-45ae-b550-47f6bd9a8662",
   "metadata": {},
   "outputs": [],
   "source": [
    "from pprint import pp\n",
    "\n",
    "from main import main"
   ]
  },
  {
   "cell_type": "code",
   "execution_count": 2,
   "id": "c79aac2c-9dc0-48aa-8900-c7186216251b",
   "metadata": {},
   "outputs": [
    {
     "name": "stdout",
     "output_type": "stream",
     "text": [
      "{'name': 'main',\n",
      " 'context_settings': {},\n",
      " 'callback': <function main at 0x711c40634fe0>,\n",
      " 'params': [<Option verbose>,\n",
      "            <Option confirm>,\n",
      "            <Option date>,\n",
      "            <Option root_dir>,\n",
      "            <Option run_type>,\n",
      "            <Option server>,\n",
      "            <Option transport>],\n",
      " 'help': 'Entry point',\n",
      " 'epilog': None,\n",
      " 'options_metavar': '[OPTIONS]',\n",
      " 'short_help': None,\n",
      " 'add_help_option': True,\n",
      " '_help_option': None,\n",
      " 'no_args_is_help': True,\n",
      " 'hidden': False,\n",
      " 'deprecated': False,\n",
      " 'commands': {'foo': <Command foo>, 'bar': <Command bar>},\n",
      " 'invoke_without_command': False,\n",
      " 'subcommand_metavar': 'COMMAND [ARGS]...',\n",
      " 'chain': False,\n",
      " '_result_callback': None,\n",
      " '__doc__': 'Entry point'}\n"
     ]
    }
   ],
   "source": [
    "pp(vars(main))"
   ]
  },
  {
   "cell_type": "code",
   "execution_count": 4,
   "id": "7ab37ae9-95e5-44aa-a566-999c8e6eb4fc",
   "metadata": {},
   "outputs": [
    {
     "data": {
      "text/plain": [
       "[<Option verbose>,\n",
       " <Option confirm>,\n",
       " <Option date>,\n",
       " <Option root_dir>,\n",
       " <Option run_type>,\n",
       " <Option server>,\n",
       " <Option transport>]"
      ]
     },
     "execution_count": 4,
     "metadata": {},
     "output_type": "execute_result"
    }
   ],
   "source": [
    "main.params"
   ]
  },
  {
   "cell_type": "code",
   "execution_count": 15,
   "id": "522265b9-320e-46a4-bcd8-adfb3a7c5c25",
   "metadata": {},
   "outputs": [
    {
     "name": "stdout",
     "output_type": "stream",
     "text": [
      "{'name': 'verbose',\n",
      " 'opts': ['-v', '--verbose'],\n",
      " 'secondary_opts': [],\n",
      " 'type': BOOL,\n",
      " 'required': False,\n",
      " 'callback': None,\n",
      " 'nargs': 1,\n",
      " 'multiple': False,\n",
      " 'expose_value': True,\n",
      " 'default': False,\n",
      " 'is_eager': False,\n",
      " 'metavar': None,\n",
      " 'envvar': None,\n",
      " '_custom_shell_complete': None,\n",
      " 'deprecated': False,\n",
      " 'prompt': None,\n",
      " 'confirmation_prompt': False,\n",
      " 'prompt_required': True,\n",
      " 'hide_input': False,\n",
      " 'hidden': False,\n",
      " '_flag_needs_value': False,\n",
      " 'is_flag': True,\n",
      " 'is_bool_flag': True,\n",
      " 'flag_value': True,\n",
      " 'count': False,\n",
      " 'allow_from_autoenv': True,\n",
      " 'help': None,\n",
      " 'show_default': None,\n",
      " 'show_choices': True,\n",
      " 'show_envvar': False}\n"
     ]
    }
   ],
   "source": [
    "opt = main.params[0]\n",
    "pp(vars(opt))"
   ]
  },
  {
   "cell_type": "code",
   "execution_count": 18,
   "id": "34d71216-03c3-490e-8b0c-55b3c20c2b2a",
   "metadata": {},
   "outputs": [
    {
     "data": {
      "text/plain": [
       "[('verbose', ['-v', '--verbose'], BOOL),\n",
       " ('confirm', ['-c', '--confirm'], BOOL),\n",
       " ('date', ['-d', '--date'], DateTime),\n",
       " ('root_dir', ['-D', '--root-dir'], <click.types.Path at 0x711c40558590>),\n",
       " ('run_type',\n",
       "  ['-r', '--run-type'],\n",
       "  Choice([<RunType.MANUAL: 'manual'>, <RunType.NIGHTLY: 'nightly'>])),\n",
       " ('server', ['-s', '--server'], <click.types.FuncParamType at 0x711c40558ad0>),\n",
       " ('transport', ['-t', '--transport'], <main.CarParam at 0x711c40558830>)]"
      ]
     },
     "execution_count": 18,
     "metadata": {},
     "output_type": "execute_result"
    }
   ],
   "source": [
    "[(opt.name, opt.opts, opt.type) for opt in main.params]"
   ]
  },
  {
   "cell_type": "code",
   "execution_count": null,
   "id": "21735fb5-feb8-4d46-ba1e-af9248894488",
   "metadata": {},
   "outputs": [],
   "source": []
  }
 ],
 "metadata": {
  "kernelspec": {
   "display_name": "Python 3 (ipykernel)",
   "language": "python",
   "name": "python3"
  },
  "language_info": {
   "codemirror_mode": {
    "name": "ipython",
    "version": 3
   },
   "file_extension": ".py",
   "mimetype": "text/x-python",
   "name": "python",
   "nbconvert_exporter": "python",
   "pygments_lexer": "ipython3",
   "version": "3.13.2"
  }
 },
 "nbformat": 4,
 "nbformat_minor": 5
}
