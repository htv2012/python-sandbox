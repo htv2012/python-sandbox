{
 "cells": [
  {
   "cell_type": "code",
   "execution_count": 1,
   "id": "4b5c87b2-9e38-404e-87a9-4c888fe13588",
   "metadata": {},
   "outputs": [],
   "source": [
    "import schematics"
   ]
  },
  {
   "cell_type": "code",
   "execution_count": 54,
   "id": "a32eb911-6993-4a99-9913-e603f031f84c",
   "metadata": {},
   "outputs": [],
   "source": [
    "class User(schematics.Model):\n",
    "    name = schematics.types.StringType()\n",
    "    is_admin = schematics.types.BooleanType(default=False, serialized_name=\"isAdmin\")\n",
    "    \n",
    "    # In order to validate field X, create a method called validate_X\n",
    "    \n",
    "    def validate_is_admin(self, data, value):\n",
    "        \"\"\"\n",
    "        Validate the `is_admin` part.\n",
    "        \n",
    "        :data: The whole dictionary\n",
    "        :value: value of `is_admin`\n",
    "        :return: value\n",
    "        \"\"\"\n",
    "        name = data[\"name\"]\n",
    "        if value is True and name == \"John\":\n",
    "            raise schematics.exceptions.ValidationError(f\"{name} cannot be an admin\")"
   ]
  },
  {
   "cell_type": "code",
   "execution_count": 51,
   "id": "1a8e54e1-fa36-4a6b-80d3-c3b28b9bc393",
   "metadata": {},
   "outputs": [],
   "source": [
    "u = User(dict(name=\"John\"))\n",
    "u.validate()"
   ]
  },
  {
   "cell_type": "code",
   "execution_count": 52,
   "id": "27fc2525-0202-441a-a4a3-48eaed9df3ff",
   "metadata": {},
   "outputs": [],
   "source": [
    "User(dict(name=\"Karen\", isAdmin=True)).validate()"
   ]
  },
  {
   "cell_type": "code",
   "execution_count": 53,
   "id": "3f90d8cf-25ec-4dd5-9d0f-fb3900e2d3a2",
   "metadata": {},
   "outputs": [
    {
     "ename": "AssertionError",
     "evalue": "John cannot be an administrator",
     "output_type": "error",
     "traceback": [
      "\u001b[0;31m---------------------------------------------------------------------------\u001b[0m",
      "\u001b[0;31mAssertionError\u001b[0m                            Traceback (most recent call last)",
      "Input \u001b[0;32mIn [53]\u001b[0m, in \u001b[0;36m<cell line: 1>\u001b[0;34m()\u001b[0m\n\u001b[1;32m      1\u001b[0m \u001b[38;5;28;01mtry\u001b[39;00m:\n\u001b[0;32m----> 2\u001b[0m     \u001b[43mUser\u001b[49m\u001b[43m(\u001b[49m\u001b[38;5;28;43mdict\u001b[39;49m\u001b[43m(\u001b[49m\u001b[43mname\u001b[49m\u001b[38;5;241;43m=\u001b[39;49m\u001b[38;5;124;43m\"\u001b[39;49m\u001b[38;5;124;43mJohn\u001b[39;49m\u001b[38;5;124;43m\"\u001b[39;49m\u001b[43m,\u001b[49m\u001b[43m \u001b[49m\u001b[43misAdmin\u001b[49m\u001b[38;5;241;43m=\u001b[39;49m\u001b[38;5;28;43;01mTrue\u001b[39;49;00m\u001b[43m)\u001b[49m\u001b[43m)\u001b[49m\u001b[38;5;241;43m.\u001b[39;49m\u001b[43mvalidate\u001b[49m\u001b[43m(\u001b[49m\u001b[43m)\u001b[49m\n\u001b[1;32m      3\u001b[0m \u001b[38;5;28;01mexcept\u001b[39;00m schematics\u001b[38;5;241m.\u001b[39mexceptions\u001b[38;5;241m.\u001b[39mDataError \u001b[38;5;28;01mas\u001b[39;00m error:\n\u001b[1;32m      4\u001b[0m     \u001b[38;5;28mprint\u001b[39m(\u001b[38;5;124mf\u001b[39m\u001b[38;5;124m\"\u001b[39m\u001b[38;5;124mError: \u001b[39m\u001b[38;5;132;01m{\u001b[39;00merror\u001b[38;5;132;01m}\u001b[39;00m\u001b[38;5;124m\"\u001b[39m)\n",
      "File \u001b[0;32m~/.virtualenv/schematics/lib/python3.10/site-packages/schematics/models.py:257\u001b[0m, in \u001b[0;36mModel.validate\u001b[0;34m(self, partial, convert, app_data, **kwargs)\u001b[0m\n\u001b[1;32m    255\u001b[0m     \u001b[38;5;28;01mreturn\u001b[39;00m  \u001b[38;5;66;03m# no new input data to validate\u001b[39;00m\n\u001b[1;32m    256\u001b[0m \u001b[38;5;28;01mtry\u001b[39;00m:\n\u001b[0;32m--> 257\u001b[0m     data \u001b[38;5;241m=\u001b[39m \u001b[38;5;28;43mself\u001b[39;49m\u001b[38;5;241;43m.\u001b[39;49m\u001b[43m_convert\u001b[49m\u001b[43m(\u001b[49m\u001b[43mvalidate\u001b[49m\u001b[38;5;241;43m=\u001b[39;49m\u001b[38;5;28;43;01mTrue\u001b[39;49;00m\u001b[43m,\u001b[49m\n\u001b[1;32m    258\u001b[0m \u001b[43m        \u001b[49m\u001b[43mpartial\u001b[49m\u001b[38;5;241;43m=\u001b[39;49m\u001b[43mpartial\u001b[49m\u001b[43m,\u001b[49m\u001b[43m \u001b[49m\u001b[43mconvert\u001b[49m\u001b[38;5;241;43m=\u001b[39;49m\u001b[43mconvert\u001b[49m\u001b[43m,\u001b[49m\u001b[43m \u001b[49m\u001b[43mapp_data\u001b[49m\u001b[38;5;241;43m=\u001b[39;49m\u001b[43mapp_data\u001b[49m\u001b[43m,\u001b[49m\u001b[43m \u001b[49m\u001b[38;5;241;43m*\u001b[39;49m\u001b[38;5;241;43m*\u001b[39;49m\u001b[43mkwargs\u001b[49m\u001b[43m)\u001b[49m\n\u001b[1;32m    259\u001b[0m     \u001b[38;5;28mself\u001b[39m\u001b[38;5;241m.\u001b[39m_data\u001b[38;5;241m.\u001b[39mvalid \u001b[38;5;241m=\u001b[39m data\n\u001b[1;32m    260\u001b[0m \u001b[38;5;28;01mexcept\u001b[39;00m DataError \u001b[38;5;28;01mas\u001b[39;00m e:\n",
      "File \u001b[0;32m~/.virtualenv/schematics/lib/python3.10/site-packages/schematics/models.py:299\u001b[0m, in \u001b[0;36mModel._convert\u001b[0;34m(self, raw_data, context, **kwargs)\u001b[0m\n\u001b[1;32m    297\u001b[0m should_validate \u001b[38;5;241m=\u001b[39m \u001b[38;5;28mgetattr\u001b[39m(context, \u001b[38;5;124m'\u001b[39m\u001b[38;5;124mvalidate\u001b[39m\u001b[38;5;124m'\u001b[39m, kwargs\u001b[38;5;241m.\u001b[39mget(\u001b[38;5;124m'\u001b[39m\u001b[38;5;124mvalidate\u001b[39m\u001b[38;5;124m'\u001b[39m, \u001b[38;5;28;01mFalse\u001b[39;00m))\n\u001b[1;32m    298\u001b[0m func \u001b[38;5;241m=\u001b[39m validate \u001b[38;5;28;01mif\u001b[39;00m should_validate \u001b[38;5;28;01melse\u001b[39;00m convert\n\u001b[0;32m--> 299\u001b[0m \u001b[38;5;28;01mreturn\u001b[39;00m \u001b[43mfunc\u001b[49m\u001b[43m(\u001b[49m\u001b[38;5;28;43mself\u001b[39;49m\u001b[38;5;241;43m.\u001b[39;49m\u001b[43m_schema\u001b[49m\u001b[43m,\u001b[49m\u001b[43m \u001b[49m\u001b[38;5;28;43mself\u001b[39;49m\u001b[43m,\u001b[49m\u001b[43m \u001b[49m\u001b[43mraw_data\u001b[49m\u001b[38;5;241;43m=\u001b[39;49m\u001b[43mraw_data\u001b[49m\u001b[43m,\u001b[49m\u001b[43m \u001b[49m\u001b[43moo\u001b[49m\u001b[38;5;241;43m=\u001b[39;49m\u001b[38;5;28;43;01mTrue\u001b[39;49;00m\u001b[43m,\u001b[49m\u001b[43m \u001b[49m\u001b[43mcontext\u001b[49m\u001b[38;5;241;43m=\u001b[39;49m\u001b[43mcontext\u001b[49m\u001b[43m,\u001b[49m\u001b[43m \u001b[49m\u001b[38;5;241;43m*\u001b[39;49m\u001b[38;5;241;43m*\u001b[39;49m\u001b[43mkwargs\u001b[49m\u001b[43m)\u001b[49m\n",
      "File \u001b[0;32m~/.virtualenv/schematics/lib/python3.10/site-packages/schematics/validate.py:64\u001b[0m, in \u001b[0;36mvalidate\u001b[0;34m(schema, mutable, raw_data, trusted_data, partial, strict, convert, context, **kwargs)\u001b[0m\n\u001b[1;32m     61\u001b[0m     errors \u001b[38;5;241m=\u001b[39m \u001b[38;5;28mdict\u001b[39m(exc\u001b[38;5;241m.\u001b[39merrors)\n\u001b[1;32m     62\u001b[0m     data \u001b[38;5;241m=\u001b[39m exc\u001b[38;5;241m.\u001b[39mpartial_data\n\u001b[0;32m---> 64\u001b[0m errors\u001b[38;5;241m.\u001b[39mupdate(\u001b[43m_validate_model\u001b[49m\u001b[43m(\u001b[49m\u001b[43mschema\u001b[49m\u001b[43m,\u001b[49m\u001b[43m \u001b[49m\u001b[43mmutable\u001b[49m\u001b[43m,\u001b[49m\u001b[43m \u001b[49m\u001b[43mdata\u001b[49m\u001b[43m,\u001b[49m\u001b[43m \u001b[49m\u001b[43mcontext\u001b[49m\u001b[43m)\u001b[49m)\n\u001b[1;32m     66\u001b[0m \u001b[38;5;28;01mif\u001b[39;00m errors:\n\u001b[1;32m     67\u001b[0m     \u001b[38;5;28;01mraise\u001b[39;00m DataError(errors, data)\n",
      "File \u001b[0;32m~/.virtualenv/schematics/lib/python3.10/site-packages/schematics/validate.py:95\u001b[0m, in \u001b[0;36m_validate_model\u001b[0;34m(schema, mutable, data, context)\u001b[0m\n\u001b[1;32m     93\u001b[0m \u001b[38;5;28;01mfor\u001b[39;00m field_name, field, value \u001b[38;5;129;01min\u001b[39;00m atoms(schema, data, \u001b[38;5;28mfilter\u001b[39m\u001b[38;5;241m=\u001b[39mhas_validator):\n\u001b[1;32m     94\u001b[0m     \u001b[38;5;28;01mtry\u001b[39;00m:\n\u001b[0;32m---> 95\u001b[0m         \u001b[43mschema\u001b[49m\u001b[38;5;241;43m.\u001b[39;49m\u001b[43m_validator_functions\u001b[49m\u001b[43m[\u001b[49m\u001b[43mfield_name\u001b[49m\u001b[43m]\u001b[49m\u001b[43m(\u001b[49m\u001b[43mmutable\u001b[49m\u001b[43m,\u001b[49m\u001b[43m \u001b[49m\u001b[43mdata\u001b[49m\u001b[43m,\u001b[49m\u001b[43m \u001b[49m\u001b[43mvalue\u001b[49m\u001b[43m,\u001b[49m\u001b[43m \u001b[49m\u001b[43mcontext\u001b[49m\u001b[43m)\u001b[49m\n\u001b[1;32m     96\u001b[0m     \u001b[38;5;28;01mexcept\u001b[39;00m (FieldError, DataError) \u001b[38;5;28;01mas\u001b[39;00m exc:\n\u001b[1;32m     97\u001b[0m         serialized_field_name \u001b[38;5;241m=\u001b[39m field\u001b[38;5;241m.\u001b[39mserialized_name \u001b[38;5;129;01mor\u001b[39;00m field_name\n",
      "File \u001b[0;32m~/.virtualenv/schematics/lib/python3.10/site-packages/schematics/validate.py:132\u001b[0m, in \u001b[0;36mprepare_validator.<locals>.newfunc\u001b[0;34m(*args, **kwargs)\u001b[0m\n\u001b[1;32m    130\u001b[0m \u001b[38;5;28;01mif\u001b[39;00m \u001b[38;5;129;01mnot\u001b[39;00m kwargs \u001b[38;5;129;01mor\u001b[39;00m kwargs\u001b[38;5;241m.\u001b[39mpop(\u001b[38;5;124m'\u001b[39m\u001b[38;5;124mcontext\u001b[39m\u001b[38;5;124m'\u001b[39m, \u001b[38;5;241m0\u001b[39m) \u001b[38;5;241m==\u001b[39m \u001b[38;5;241m0\u001b[39m:\n\u001b[1;32m    131\u001b[0m     args \u001b[38;5;241m=\u001b[39m args[:\u001b[38;5;241m-\u001b[39m\u001b[38;5;241m1\u001b[39m]\n\u001b[0;32m--> 132\u001b[0m \u001b[38;5;28;01mreturn\u001b[39;00m \u001b[43mfunc\u001b[49m\u001b[43m(\u001b[49m\u001b[38;5;241;43m*\u001b[39;49m\u001b[43margs\u001b[49m\u001b[43m,\u001b[49m\u001b[43m \u001b[49m\u001b[38;5;241;43m*\u001b[39;49m\u001b[38;5;241;43m*\u001b[39;49m\u001b[43mkwargs\u001b[49m\u001b[43m)\u001b[49m\n",
      "Input \u001b[0;32mIn [50]\u001b[0m, in \u001b[0;36mUser.validate_is_admin\u001b[0;34m(self, data, value)\u001b[0m\n\u001b[1;32m      8\u001b[0m \u001b[38;5;124;03m\"\"\"\u001b[39;00m\n\u001b[1;32m      9\u001b[0m \u001b[38;5;124;03mValidate the `is_admin` part.\u001b[39;00m\n\u001b[1;32m     10\u001b[0m \u001b[38;5;124;03m\u001b[39;00m\n\u001b[0;32m   (...)\u001b[0m\n\u001b[1;32m     13\u001b[0m \u001b[38;5;124;03m:return: value\u001b[39;00m\n\u001b[1;32m     14\u001b[0m \u001b[38;5;124;03m\"\"\"\u001b[39;00m\n\u001b[1;32m     15\u001b[0m name \u001b[38;5;241m=\u001b[39m data[\u001b[38;5;124m\"\u001b[39m\u001b[38;5;124mname\u001b[39m\u001b[38;5;124m\"\u001b[39m]\n\u001b[0;32m---> 16\u001b[0m \u001b[38;5;28;01massert\u001b[39;00m \u001b[38;5;129;01mnot\u001b[39;00m (name \u001b[38;5;241m==\u001b[39m \u001b[38;5;124m\"\u001b[39m\u001b[38;5;124mJohn\u001b[39m\u001b[38;5;124m\"\u001b[39m \u001b[38;5;129;01mand\u001b[39;00m value \u001b[38;5;129;01mis\u001b[39;00m \u001b[38;5;28;01mTrue\u001b[39;00m), \u001b[38;5;124m\"\u001b[39m\u001b[38;5;124mJohn cannot be an administrator\u001b[39m\u001b[38;5;124m\"\u001b[39m\n\u001b[1;32m     17\u001b[0m \u001b[38;5;28;01mif\u001b[39;00m value \u001b[38;5;129;01mis\u001b[39;00m \u001b[38;5;28;01mTrue\u001b[39;00m \u001b[38;5;129;01mand\u001b[39;00m name \u001b[38;5;241m==\u001b[39m \u001b[38;5;124m\"\u001b[39m\u001b[38;5;124mJohn\u001b[39m\u001b[38;5;124m\"\u001b[39m:\n\u001b[1;32m     18\u001b[0m     \u001b[38;5;28;01mraise\u001b[39;00m schematics\u001b[38;5;241m.\u001b[39mexceptions\u001b[38;5;241m.\u001b[39mValidationError(\u001b[38;5;124mf\u001b[39m\u001b[38;5;124m\"\u001b[39m\u001b[38;5;132;01m{\u001b[39;00mname\u001b[38;5;132;01m}\u001b[39;00m\u001b[38;5;124m cannot be an admin\u001b[39m\u001b[38;5;124m\"\u001b[39m)\n",
      "\u001b[0;31mAssertionError\u001b[0m: John cannot be an administrator"
     ]
    }
   ],
   "source": [
    "try:\n",
    "    User(dict(name=\"John\", isAdmin=True)).validate()\n",
    "except schematics.exceptions.DataError as error:\n",
    "    print(f\"Error: {error}\")"
   ]
  },
  {
   "cell_type": "code",
   "execution_count": 44,
   "id": "5d9000e5-4bd4-47fd-af50-c2469421f90f",
   "metadata": {},
   "outputs": [
    {
     "data": {
      "text/plain": [
       "{'name': 'John', 'isAdmin': False}"
      ]
     },
     "execution_count": 44,
     "metadata": {},
     "output_type": "execute_result"
    }
   ],
   "source": [
    "u.to_native()"
   ]
  },
  {
   "cell_type": "code",
   "execution_count": 45,
   "id": "14e7ef3b-cf72-4aff-9033-a2e220283f15",
   "metadata": {},
   "outputs": [
    {
     "data": {
      "text/plain": [
       "{'name': 'John', 'isAdmin': False}"
      ]
     },
     "execution_count": 45,
     "metadata": {},
     "output_type": "execute_result"
    }
   ],
   "source": [
    "u.to_primitive()"
   ]
  },
  {
   "cell_type": "code",
   "execution_count": null,
   "id": "61ea6de7-b481-4ebd-b069-98ddac96a0d7",
   "metadata": {},
   "outputs": [],
   "source": []
  }
 ],
 "metadata": {
  "kernelspec": {
   "display_name": "Python 3 (ipykernel)",
   "language": "python",
   "name": "python3"
  },
  "language_info": {
   "codemirror_mode": {
    "name": "ipython",
    "version": 3
   },
   "file_extension": ".py",
   "mimetype": "text/x-python",
   "name": "python",
   "nbconvert_exporter": "python",
   "pygments_lexer": "ipython3",
   "version": "3.10.4"
  }
 },
 "nbformat": 4,
 "nbformat_minor": 5
}
