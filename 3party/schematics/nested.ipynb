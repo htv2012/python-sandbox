{
 "cells": [
  {
   "cell_type": "code",
   "execution_count": 53,
   "id": "4713fd5e-60ab-4ae3-bef4-4f0ab60c9cb3",
   "metadata": {},
   "outputs": [],
   "source": [
    "import schematics\n",
    "\n",
    "{\n",
    "    \"metadata\": {\n",
    "        \"name\": \"Johan\",\n",
    "        \"displayName\": \"Johan Anderson\",\n",
    "        \"description\": \"System admin\",\n",
    "    },\n",
    "    \"userDef\": {\n",
    "        \"firstName\": \"Johan\",\n",
    "        \"lastName\": \"Anderson\",\n",
    "        \"email\": \"johan@comix.com\",\n",
    "    }\n",
    "}\n",
    "\n",
    "def validate_no_space(value):\n",
    "    \"\"\"fields must not have spaces.\"\"\"\n",
    "    if \" \" in value:\n",
    "        raise schematics.exceptions.ValidationError(\"There must not be spaces in value\")\n",
    "\n",
    "\n",
    "class UserMetadata(schematics.Model):\n",
    "    name = schematics.types.StringType(required=True)\n",
    "    display_name = schematics.types.StringType(serialized_name=\"displayName\")\n",
    "    description = schematics.types.StringType()\n",
    "\n",
    "\n",
    "class UserDef(schematics.Model):\n",
    "    first_name = schematics.types.StringType(serialized_name=\"firstName\", validators=[validate_no_space])\n",
    "    last_name = schematics.types.StringType(serialized_name=\"lastName\", validators=[validate_no_space])\n",
    "    email = schematics.types.EmailType()\n",
    "\n",
    "\n",
    "class User(schematics.Model):\n",
    "    metadata = schematics.types.ModelType(UserMetadata)\n",
    "    user_def = schematics.types.ModelType(UserDef, serialized_name=\"userDef\")"
   ]
  },
  {
   "cell_type": "code",
   "execution_count": 35,
   "id": "d7c21c79-a955-4356-8b66-0dfebc9383cd",
   "metadata": {},
   "outputs": [],
   "source": [
    "ud = UserDef({\n",
    "        \"firstName\": \"Johan\",\n",
    "        \"lastName\": \"Anderson\",\n",
    "        \"email\": \"johan@comix.com\",\n",
    "})"
   ]
  },
  {
   "cell_type": "code",
   "execution_count": 36,
   "id": "1c2ddfc6-d7c2-4fd1-82c0-55503fa3c4d2",
   "metadata": {},
   "outputs": [
    {
     "data": {
      "text/plain": [
       "'Johan'"
      ]
     },
     "execution_count": 36,
     "metadata": {},
     "output_type": "execute_result"
    }
   ],
   "source": [
    "ud.first_name"
   ]
  },
  {
   "cell_type": "code",
   "execution_count": 4,
   "id": "c4006b82-fb13-4ad0-bea6-fb48d7194d4b",
   "metadata": {},
   "outputs": [
    {
     "data": {
      "text/plain": [
       "'Anderson'"
      ]
     },
     "execution_count": 4,
     "metadata": {},
     "output_type": "execute_result"
    }
   ],
   "source": [
    "ud.last_name"
   ]
  },
  {
   "cell_type": "code",
   "execution_count": 5,
   "id": "dfaa9741-acde-46e2-8591-b8097ed8fca1",
   "metadata": {},
   "outputs": [
    {
     "data": {
      "text/plain": [
       "'johan@comix.com'"
      ]
     },
     "execution_count": 5,
     "metadata": {},
     "output_type": "execute_result"
    }
   ],
   "source": [
    "ud.email"
   ]
  },
  {
   "cell_type": "code",
   "execution_count": 8,
   "id": "2eaf18e4-6dda-4d76-a7d4-1beee6deeeb6",
   "metadata": {},
   "outputs": [],
   "source": [
    "um = UserMetadata({\n",
    "        \"name\": \"Johan\",\n",
    "        \"displayName\": \"Johan Anderson\",\n",
    "        \"description\": \"System admin\",\n",
    "})"
   ]
  },
  {
   "cell_type": "code",
   "execution_count": 9,
   "id": "3135a50a-8710-4d23-b5a1-d473e1c6c2ad",
   "metadata": {},
   "outputs": [
    {
     "data": {
      "text/plain": [
       "'Johan'"
      ]
     },
     "execution_count": 9,
     "metadata": {},
     "output_type": "execute_result"
    }
   ],
   "source": [
    "um.name"
   ]
  },
  {
   "cell_type": "code",
   "execution_count": 10,
   "id": "756acc78-b316-4a4a-81dc-cc4f56640463",
   "metadata": {},
   "outputs": [
    {
     "data": {
      "text/plain": [
       "'Johan Anderson'"
      ]
     },
     "execution_count": 10,
     "metadata": {},
     "output_type": "execute_result"
    }
   ],
   "source": [
    "um.display_name"
   ]
  },
  {
   "cell_type": "code",
   "execution_count": 11,
   "id": "bf2d8485-8d1f-4644-988a-4ad0187530cf",
   "metadata": {},
   "outputs": [
    {
     "data": {
      "text/plain": [
       "'System admin'"
      ]
     },
     "execution_count": 11,
     "metadata": {},
     "output_type": "execute_result"
    }
   ],
   "source": [
    "um.description"
   ]
  },
  {
   "cell_type": "code",
   "execution_count": 18,
   "id": "e342944b-7395-4fa2-ad9c-9e1b2525ec20",
   "metadata": {},
   "outputs": [],
   "source": [
    "u = User({\n",
    "    \"metadata\": {\n",
    "        \"name\": \"Johan\",\n",
    "        \"displayName\": \"Johan Anderson\",\n",
    "        \"description\": \"System admin\",\n",
    "    },\n",
    "    \"userDef\": {\n",
    "        \"firstName\": \"Johan\",\n",
    "        \"lastName\": \"Anderson\",\n",
    "        \"email\": \"johan@comix.com\",\n",
    "    }\n",
    "})"
   ]
  },
  {
   "cell_type": "code",
   "execution_count": 19,
   "id": "74267b92-2a02-4604-81cf-42ce28b74cb1",
   "metadata": {},
   "outputs": [
    {
     "data": {
      "text/plain": [
       "<UserMetadata instance>"
      ]
     },
     "execution_count": 19,
     "metadata": {},
     "output_type": "execute_result"
    }
   ],
   "source": [
    "u.metadata"
   ]
  },
  {
   "cell_type": "code",
   "execution_count": 20,
   "id": "b17916a6-e9d5-43c8-b184-a745b00bfc0c",
   "metadata": {},
   "outputs": [
    {
     "data": {
      "text/plain": [
       "'Johan'"
      ]
     },
     "execution_count": 20,
     "metadata": {},
     "output_type": "execute_result"
    }
   ],
   "source": [
    "u.metadata.name"
   ]
  },
  {
   "cell_type": "code",
   "execution_count": 21,
   "id": "49494a8a-6d7b-42f0-b3f6-00dc9f95f5fd",
   "metadata": {},
   "outputs": [
    {
     "data": {
      "text/plain": [
       "'johan@comix.com'"
      ]
     },
     "execution_count": 21,
     "metadata": {},
     "output_type": "execute_result"
    }
   ],
   "source": [
    "u.user_def.email"
   ]
  },
  {
   "cell_type": "markdown",
   "id": "42807e33-d7d3-4b24-93bb-b9fa13c53d8b",
   "metadata": {},
   "source": [
    "# Validate UserDef"
   ]
  },
  {
   "cell_type": "code",
   "execution_count": 55,
   "id": "320feab0-750f-44ad-b575-ae7c3829d487",
   "metadata": {},
   "outputs": [],
   "source": [
    "# Should be OK\n",
    "ud = UserDef({\"email\": \"foo@bar.com\"})\n",
    "ud.validate()"
   ]
  },
  {
   "cell_type": "code",
   "execution_count": 54,
   "id": "490f9a70-b500-4e4e-aa3e-9566d4af4c21",
   "metadata": {},
   "outputs": [
    {
     "name": "stdout",
     "output_type": "stream",
     "text": [
      "The following faults found:\n",
      "- firstName:\n",
      "   - There must not be spaces in value\n",
      "- lastName:\n",
      "   - There must not be spaces in value\n",
      "- email:\n",
      "   - Not a well-formed email address.\n",
      "---\n",
      "{\"firstName\": [\"There must not be spaces in value\"], \"lastName\": [\"There must not be spaces in value\"], \"email\": [\"Not a well-formed email address.\"]}\n"
     ]
    }
   ],
   "source": [
    "ud = UserDef(dict(email=\"ax\", firstName=\"Boo Ba\", lastName=\"Blah blah\"))\n",
    "try:\n",
    "    ud.validate()\n",
    "except schematics.exceptions.DataError as error:\n",
    "    print(\"The following faults found:\")\n",
    "    for field_name, faults in error.to_primitive().items():\n",
    "        print(f\"- {field_name}:\")\n",
    "        for fault in faults:\n",
    "            print(f\"   - {fault}\")\n",
    "    print(\"---\")\n",
    "    print(error)"
   ]
  },
  {
   "cell_type": "markdown",
   "id": "03488a0d-e817-4635-80a6-905f2dacab69",
   "metadata": {},
   "source": [
    "# Validate User"
   ]
  },
  {
   "cell_type": "code",
   "execution_count": 57,
   "id": "adcda89a-a30a-492c-b632-a5cbca6dabde",
   "metadata": {},
   "outputs": [],
   "source": [
    "# Should be OK\n",
    "u = User({\n",
    "    \"metadata\": {\n",
    "        \"name\": \"Johan\",\n",
    "        \"displayName\": \"Johan Anderson\",\n",
    "        \"description\": \"System admin\",\n",
    "    },\n",
    "    \"userDef\": {\n",
    "        \"firstName\": \"Johan\",\n",
    "        \"lastName\": \"Anderson\",\n",
    "        \"email\": \"johan@comix.com\",\n",
    "    }\n",
    "})\n",
    "u.validate()"
   ]
  },
  {
   "cell_type": "code",
   "execution_count": 58,
   "id": "9b424c9a-d35b-4d40-9fcb-0b509fa015a2",
   "metadata": {},
   "outputs": [
    {
     "name": "stdout",
     "output_type": "stream",
     "text": [
      "{\"userDef\": {\"firstName\": [\"There must not be spaces in value\"], \"email\": [\"Not a well-formed email address.\"]}}\n"
     ]
    }
   ],
   "source": [
    "# Email and name errors\n",
    "u = User({\n",
    "    \"metadata\": {\n",
    "        \"name\": \"Johan\",\n",
    "        \"displayName\": \"Johan Anderson\",\n",
    "        \"description\": \"System admin\",\n",
    "    },\n",
    "    \"userDef\": {\n",
    "        \"firstName\": \"Johan Ken\",\n",
    "        \"lastName\": \"Anderson\",\n",
    "        \"email\": \"johan\",\n",
    "    }\n",
    "})\n",
    "\n",
    "try:\n",
    "    u.validate()\n",
    "except schematics.exceptions.DataError as error:\n",
    "    print(error)"
   ]
  },
  {
   "cell_type": "code",
   "execution_count": 60,
   "id": "e86f0bce-929e-43ce-a81d-8d788a9aa7e7",
   "metadata": {},
   "outputs": [
    {
     "name": "stdout",
     "output_type": "stream",
     "text": [
      "{\"metadata\": {\"name\": [\"This field is required.\"]}}\n"
     ]
    }
   ],
   "source": [
    "# name is missing\n",
    "u = User({\n",
    "    \"metadata\": {\n",
    "        \"displayName\": \"Johan Anderson\",\n",
    "        \"description\": \"System admin\",\n",
    "    },\n",
    "    \"userDef\": {\n",
    "        \"firstName\": \"Johan\",\n",
    "        \"lastName\": \"Anderson\",\n",
    "        \"email\": \"johan@comix.com\",\n",
    "    }\n",
    "})\n",
    "\n",
    "try:\n",
    "    u.validate()\n",
    "except schematics.exceptions.DataError as error:\n",
    "    print(error)"
   ]
  },
  {
   "cell_type": "code",
   "execution_count": null,
   "id": "46e0f9e5-f927-4f82-8031-893d031b9800",
   "metadata": {},
   "outputs": [],
   "source": []
  }
 ],
 "metadata": {
  "kernelspec": {
   "display_name": "Python 3 (ipykernel)",
   "language": "python",
   "name": "python3"
  },
  "language_info": {
   "codemirror_mode": {
    "name": "ipython",
    "version": 3
   },
   "file_extension": ".py",
   "mimetype": "text/x-python",
   "name": "python",
   "nbconvert_exporter": "python",
   "pygments_lexer": "ipython3",
   "version": "3.10.4"
  }
 },
 "nbformat": 4,
 "nbformat_minor": 5
}
