{
 "cells": [
  {
   "cell_type": "markdown",
   "id": "grateful-commitment",
   "metadata": {},
   "source": [
    "# Docker Sandbox"
   ]
  },
  {
   "cell_type": "code",
   "execution_count": 1,
   "id": "induced-probability",
   "metadata": {},
   "outputs": [],
   "source": [
    "import docker"
   ]
  },
  {
   "cell_type": "code",
   "execution_count": 2,
   "id": "compatible-ambassador",
   "metadata": {},
   "outputs": [],
   "source": [
    "# dc = docker.DockerClient(\"tcp://10.238.133.214:4243\")\n",
    "dc = docker.DockerClient.from_env()"
   ]
  },
  {
   "cell_type": "code",
   "execution_count": 3,
   "id": "minus-cleaners",
   "metadata": {},
   "outputs": [
    {
     "output_type": "execute_result",
     "data": {
      "text/plain": [
       "[<Image: 'docker101tutorial:latest'>,\n",
       " <Image: ''>,\n",
       " <Image: ''>,\n",
       " <Image: ''>,\n",
       " <Image: 'node:12-alpine'>,\n",
       " <Image: 'python:alpine'>,\n",
       " <Image: 'nginx:alpine'>,\n",
       " <Image: 'haivu2017/karaoke-php:version1.0'>]"
      ]
     },
     "metadata": {},
     "execution_count": 3
    }
   ],
   "source": [
    "dc.images.list()"
   ]
  },
  {
   "cell_type": "markdown",
   "id": "graphic-crawford",
   "metadata": {},
   "source": [
    "# Containers"
   ]
  },
  {
   "cell_type": "code",
   "execution_count": 5,
   "id": "handled-jewel",
   "metadata": {},
   "outputs": [
    {
     "output_type": "execute_result",
     "data": {
      "text/plain": [
       "[<Container: 8b1b299fd9>]"
      ]
     },
     "metadata": {},
     "execution_count": 5
    }
   ],
   "source": [
    "dc.containers.list(all=True)"
   ]
  },
  {
   "cell_type": "code",
   "execution_count": 6,
   "id": "republican-practice",
   "metadata": {},
   "outputs": [],
   "source": [
    "container = dc.containers.get(\"8b1b299fd9\")"
   ]
  },
  {
   "cell_type": "code",
   "execution_count": 7,
   "id": "parliamentary-stupid",
   "metadata": {},
   "outputs": [
    {
     "output_type": "execute_result",
     "data": {
      "text/plain": [
       "<docker.models.configs.ConfigCollection at 0x10e1c8ca0>"
      ]
     },
     "metadata": {},
     "execution_count": 7
    }
   ],
   "source": [
    "dc.configs"
   ]
  },
  {
   "cell_type": "code",
   "execution_count": 8,
   "id": "loaded-rainbow",
   "metadata": {},
   "outputs": [
    {
     "output_type": "execute_result",
     "data": {
      "text/plain": [
       "'8b1b299fd94bd8777ae3202be77aa185d56b565e81b1675ba847189d7cdb12e1'"
      ]
     },
     "metadata": {},
     "execution_count": 8
    }
   ],
   "source": [
    "container.id"
   ]
  },
  {
   "cell_type": "code",
   "execution_count": 9,
   "id": "prospective-investigator",
   "metadata": {},
   "outputs": [
    {
     "output_type": "execute_result",
     "data": {
      "text/plain": [
       "<Image: 'haivu2017/karaoke-php:version1.0'>"
      ]
     },
     "metadata": {},
     "execution_count": 9
    }
   ],
   "source": [
    "container.image"
   ]
  },
  {
   "cell_type": "code",
   "execution_count": 10,
   "id": "touched-syntax",
   "metadata": {},
   "outputs": [
    {
     "output_type": "execute_result",
     "data": {
      "text/plain": [
       "{}"
      ]
     },
     "metadata": {},
     "execution_count": 10
    }
   ],
   "source": [
    "container.labels"
   ]
  },
  {
   "cell_type": "code",
   "execution_count": 11,
   "id": "flush-aruba",
   "metadata": {},
   "outputs": [
    {
     "output_type": "execute_result",
     "data": {
      "text/plain": [
       "'karaoke-php1.0'"
      ]
     },
     "metadata": {},
     "execution_count": 11
    }
   ],
   "source": [
    "container.name"
   ]
  },
  {
   "cell_type": "code",
   "execution_count": 12,
   "id": "important-wisdom",
   "metadata": {},
   "outputs": [
    {
     "output_type": "execute_result",
     "data": {
      "text/plain": [
       "'exited'"
      ]
     },
     "metadata": {},
     "execution_count": 12
    }
   ],
   "source": [
    "container.status"
   ]
  },
  {
   "cell_type": "code",
   "execution_count": 13,
   "id": "communist-database",
   "metadata": {},
   "outputs": [],
   "source": [
    "container.start()"
   ]
  },
  {
   "cell_type": "code",
   "execution_count": 14,
   "metadata": {},
   "outputs": [
    {
     "output_type": "execute_result",
     "data": {
      "text/plain": [
       "'exited'"
      ]
     },
     "metadata": {},
     "execution_count": 14
    }
   ],
   "source": [
    "container.status"
   ]
  },
  {
   "cell_type": "code",
   "execution_count": 15,
   "metadata": {},
   "outputs": [
    {
     "output_type": "execute_result",
     "data": {
      "text/plain": [
       "<Container: 8b1b299fd9>"
      ]
     },
     "metadata": {},
     "execution_count": 15
    }
   ],
   "source": [
    "container"
   ]
  },
  {
   "cell_type": "code",
   "execution_count": 16,
   "metadata": {},
   "outputs": [
    {
     "output_type": "execute_result",
     "data": {
      "text/plain": [
       "'exited'"
      ]
     },
     "metadata": {},
     "execution_count": 16
    }
   ],
   "source": [
    "container.status"
   ]
  },
  {
   "cell_type": "code",
   "execution_count": 18,
   "metadata": {},
   "outputs": [
    {
     "output_type": "execute_result",
     "data": {
      "text/plain": [
       "[<Container: 8b1b299fd9>]"
      ]
     },
     "metadata": {},
     "execution_count": 18
    }
   ],
   "source": [
    "dc.containers.list()"
   ]
  },
  {
   "cell_type": "code",
   "execution_count": 22,
   "metadata": {},
   "outputs": [],
   "source": [
    "container = next((c for c in dc.containers.list() if 'karaoke' in c.name), None)"
   ]
  },
  {
   "cell_type": "code",
   "execution_count": 23,
   "metadata": {},
   "outputs": [
    {
     "output_type": "execute_result",
     "data": {
      "text/plain": [
       "'karaoke-php1.0'"
      ]
     },
     "metadata": {},
     "execution_count": 23
    }
   ],
   "source": [
    "container.name"
   ]
  },
  {
   "cell_type": "code",
   "execution_count": 24,
   "metadata": {},
   "outputs": [
    {
     "output_type": "execute_result",
     "data": {
      "text/plain": [
       "'running'"
      ]
     },
     "metadata": {},
     "execution_count": 24
    }
   ],
   "source": [
    "container.status"
   ]
  },
  {
   "cell_type": "code",
   "execution_count": 30,
   "metadata": {},
   "outputs": [],
   "source": [
    "container = dc.containers.get(\"karaoke-php1.0\")"
   ]
  },
  {
   "cell_type": "code",
   "execution_count": 32,
   "metadata": {},
   "outputs": [],
   "source": [
    "container.start()"
   ]
  },
  {
   "cell_type": "code",
   "execution_count": 31,
   "metadata": {},
   "outputs": [
    {
     "output_type": "execute_result",
     "data": {
      "text/plain": [
       "'exited'"
      ]
     },
     "metadata": {},
     "execution_count": 31
    }
   ],
   "source": [
    "container.status"
   ]
  },
  {
   "cell_type": "code",
   "execution_count": null,
   "metadata": {},
   "outputs": [],
   "source": []
  }
 ],
 "metadata": {
  "kernelspec": {
   "display_name": "Python 3",
   "language": "python",
   "name": "python3"
  },
  "language_info": {
   "codemirror_mode": {
    "name": "ipython",
    "version": 3
   },
   "file_extension": ".py",
   "mimetype": "text/x-python",
   "name": "python",
   "nbconvert_exporter": "python",
   "pygments_lexer": "ipython3",
   "version": "3.9.0-final"
  }
 },
 "nbformat": 4,
 "nbformat_minor": 5
}